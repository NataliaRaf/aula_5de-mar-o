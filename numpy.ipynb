{
 "cells": [
  {
   "cell_type": "code",
   "execution_count": 2,
   "id": "8c3d973a-a978-4388-9f9f-def31d0fbd1c",
   "metadata": {},
   "outputs": [],
   "source": [
    "# importar a biblioteca\n",
    "import numpy as np"
   ]
  },
  {
   "cell_type": "code",
   "execution_count": 6,
   "id": "5e580602-cd53-4006-8b97-f7f003964efb",
   "metadata": {},
   "outputs": [
    {
     "name": "stdout",
     "output_type": "stream",
     "text": [
      "[1 3 5 7]\n"
     ]
    }
   ],
   "source": [
    "# Criar um array\n",
    "array = np.array([1, 3, 5, 7])\n",
    "print(array)"
   ]
  },
  {
   "cell_type": "code",
   "execution_count": 9,
   "id": "710c6700-a25f-4225-99c6-6c28046dbc5b",
   "metadata": {},
   "outputs": [
    {
     "name": "stdout",
     "output_type": "stream",
     "text": [
      "<class 'numpy.ndarray'>\n"
     ]
    }
   ],
   "source": [
    "#Tipo: type()\n",
    "print(type(array))"
   ]
  },
  {
   "cell_type": "code",
   "execution_count": 10,
   "id": "a1055036-62b0-4af1-a399-1ad3bb1ee32f",
   "metadata": {},
   "outputs": [
    {
     "name": "stdout",
     "output_type": "stream",
     "text": [
      "[1.2     3.6     4.99999]\n"
     ]
    }
   ],
   "source": [
    "# Definir o tipo dos elementos\n",
    "# Array de floats\n",
    "array_float = np.array([1.2, 3.6, 4.99999])\n",
    "print(array_float)"
   ]
  },
  {
   "cell_type": "code",
   "execution_count": 13,
   "id": "37d3b793-6fcf-429d-9eb7-2e921d4d05b9",
   "metadata": {},
   "outputs": [
    {
     "name": "stdout",
     "output_type": "stream",
     "text": [
      "[ 1.  2. 30.]\n"
     ]
    }
   ],
   "source": [
    "array_float = np.array([1, 2, 30], dtype = np.float64)\n",
    "print(array_float)"
   ]
  },
  {
   "cell_type": "code",
   "execution_count": 14,
   "id": "52868e76-33cb-4bc3-87a5-20902f41ac19",
   "metadata": {},
   "outputs": [
    {
     "name": "stdout",
     "output_type": "stream",
     "text": [
      "[ 1  2 30]\n"
     ]
    }
   ],
   "source": [
    "# Array de inteiros\n",
    "array_int = np.array([1, 2, 30], dtype = np.int32)\n",
    "print(array_int)"
   ]
  },
  {
   "cell_type": "code",
   "execution_count": 19,
   "id": "ae85d7bf-e226-4d38-9391-8d2151485de5",
   "metadata": {},
   "outputs": [],
   "source": [
    "#Alterar o tipo do array"
   ]
  },
  {
   "cell_type": "code",
   "execution_count": 20,
   "id": "01d2c8ac-13b0-4c05-8793-467dc35b43ac",
   "metadata": {},
   "outputs": [
    {
     "name": "stdout",
     "output_type": "stream",
     "text": [
      "[1 4 8 9]\n"
     ]
    }
   ],
   "source": [
    "# Alterar de float para inteiro\n",
    "array1 = np.array([1.2, 4.8, 8.3, 9.999])\n",
    "\n",
    "array1_convertido = array1.astype(np.int32)\n",
    "print(array1_convertido)"
   ]
  },
  {
   "cell_type": "code",
   "execution_count": 21,
   "id": "6706be83-e3f7-4b2d-910a-1518e450709a",
   "metadata": {},
   "outputs": [
    {
     "name": "stdout",
     "output_type": "stream",
     "text": [
      "[1. 6. 8. 3.]\n"
     ]
    }
   ],
   "source": [
    "# Alterar de inteiro para float\n",
    "array2 = np.array([1, 6, 8, 3])\n",
    "\n",
    "array2_int = array2.astype(np.float64)\n",
    "print(array2_int)"
   ]
  },
  {
   "cell_type": "code",
   "execution_count": null,
   "id": "a89ba61c-ffc6-4958-b04a-d858fc6df826",
   "metadata": {},
   "outputs": [],
   "source": []
  }
 ],
 "metadata": {
  "kernelspec": {
   "display_name": "Python 3 (ipykernel)",
   "language": "python",
   "name": "python3"
  },
  "language_info": {
   "codemirror_mode": {
    "name": "ipython",
    "version": 3
   },
   "file_extension": ".py",
   "mimetype": "text/x-python",
   "name": "python",
   "nbconvert_exporter": "python",
   "pygments_lexer": "ipython3",
   "version": "3.12.7"
  }
 },
 "nbformat": 4,
 "nbformat_minor": 5
}
