{
 "cells": [
  {
   "cell_type": "code",
   "execution_count": 2,
   "id": "8c3d973a-a978-4388-9f9f-def31d0fbd1c",
   "metadata": {},
   "outputs": [],
   "source": [
    "# importar a biblioteca\n",
    "import numpy as np"
   ]
  },
  {
   "cell_type": "code",
   "execution_count": 6,
   "id": "5e580602-cd53-4006-8b97-f7f003964efb",
   "metadata": {},
   "outputs": [
    {
     "name": "stdout",
     "output_type": "stream",
     "text": [
      "[1 3 5 7]\n"
     ]
    }
   ],
   "source": [
    "# Criar um array\n",
    "array = np.array([1, 3, 5, 7])\n",
    "print(array)"
   ]
  },
  {
   "cell_type": "code",
   "execution_count": 9,
   "id": "710c6700-a25f-4225-99c6-6c28046dbc5b",
   "metadata": {},
   "outputs": [
    {
     "name": "stdout",
     "output_type": "stream",
     "text": [
      "<class 'numpy.ndarray'>\n"
     ]
    }
   ],
   "source": [
    "#Tipo: type()\n",
    "print(type(array))"
   ]
  },
  {
   "cell_type": "code",
   "execution_count": 10,
   "id": "a1055036-62b0-4af1-a399-1ad3bb1ee32f",
   "metadata": {},
   "outputs": [
    {
     "name": "stdout",
     "output_type": "stream",
     "text": [
      "[1.2     3.6     4.99999]\n"
     ]
    }
   ],
   "source": [
    "# Definir o tipo dos elementos\n",
    "# Array de floats\n",
    "array_float = np.array([1.2, 3.6, 4.99999])\n",
    "print(array_float)"
   ]
  },
  {
   "cell_type": "code",
   "execution_count": 13,
   "id": "37d3b793-6fcf-429d-9eb7-2e921d4d05b9",
   "metadata": {},
   "outputs": [
    {
     "name": "stdout",
     "output_type": "stream",
     "text": [
      "[ 1.  2. 30.]\n"
     ]
    }
   ],
   "source": [
    "array_float = np.array([1, 2, 30], dtype = np.float64)\n",
    "print(array_float)"
   ]
  },
  {
   "cell_type": "code",
   "execution_count": 14,
   "id": "52868e76-33cb-4bc3-87a5-20902f41ac19",
   "metadata": {},
   "outputs": [
    {
     "name": "stdout",
     "output_type": "stream",
     "text": [
      "[ 1  2 30]\n"
     ]
    }
   ],
   "source": [
    "# Array de inteiros\n",
    "array_int = np.array([1, 2, 30], dtype = np.int32)\n",
    "print(array_int)"
   ]
  },
  {
   "cell_type": "code",
   "execution_count": 19,
   "id": "ae85d7bf-e226-4d38-9391-8d2151485de5",
   "metadata": {},
   "outputs": [],
   "source": [
    "#Alterar o tipo do array"
   ]
  },
  {
   "cell_type": "code",
   "execution_count": 20,
   "id": "01d2c8ac-13b0-4c05-8793-467dc35b43ac",
   "metadata": {},
   "outputs": [
    {
     "name": "stdout",
     "output_type": "stream",
     "text": [
      "[1 4 8 9]\n"
     ]
    }
   ],
   "source": [
    "# Alterar de float para inteiro\n",
    "array1 = np.array([1.2, 4.8, 8.3, 9.999])\n",
    "\n",
    "array1_convertido = array1.astype(np.int32)\n",
    "print(array1_convertido)"
   ]
  },
  {
   "cell_type": "code",
   "execution_count": 21,
   "id": "6706be83-e3f7-4b2d-910a-1518e450709a",
   "metadata": {},
   "outputs": [
    {
     "name": "stdout",
     "output_type": "stream",
     "text": [
      "[1. 6. 8. 3.]\n"
     ]
    }
   ],
   "source": [
    "# Alterar de inteiro para float\n",
    "array2 = np.array([1, 6, 8, 3])\n",
    "\n",
    "array2_int = array2.astype(np.float64)\n",
    "print(array2_int)"
   ]
  },
  {
   "cell_type": "code",
   "execution_count": 23,
   "id": "a89ba61c-ffc6-4958-b04a-d858fc6df826",
   "metadata": {},
   "outputs": [],
   "source": [
    "## Arrays multidimensionais\n"
   ]
  },
  {
   "cell_type": "code",
   "execution_count": 24,
   "id": "441a44bf-dae0-457f-8f0c-b8d5253d294d",
   "metadata": {},
   "outputs": [
    {
     "name": "stdout",
     "output_type": "stream",
     "text": [
      "[[1 2 3]\n",
      " [3 4 5]]\n"
     ]
    }
   ],
   "source": [
    "# Criar um array bidimensional (matriz)\n",
    "# linhas X colunas \n",
    "matriz = np.array([[1, 2, 3], [3, 4, 5]])\n",
    "print(matriz)"
   ]
  },
  {
   "cell_type": "code",
   "execution_count": 25,
   "id": "0b16c8d2-1713-4eaf-8583-1341d5eef041",
   "metadata": {},
   "outputs": [
    {
     "name": "stdout",
     "output_type": "stream",
     "text": [
      "(2, 3)\n"
     ]
    }
   ],
   "source": [
    "# Para verificar o formato (tamanho) da matriz \n",
    "print(matriz.shape)"
   ]
  },
  {
   "cell_type": "code",
   "execution_count": 26,
   "id": "2916f250-9ece-48cf-a920-7bb557f505fd",
   "metadata": {},
   "outputs": [
    {
     "name": "stdout",
     "output_type": "stream",
     "text": [
      "[[0. 0.]\n",
      " [0. 0.]\n",
      " [0. 0.]\n",
      " [0. 0.]]\n"
     ]
    }
   ],
   "source": [
    "# Criar uma matriz contendo elementos de valor zero\n",
    "matriz_zero = np.zeros([4, 2])\n",
    "print(matriz_zero)"
   ]
  },
  {
   "cell_type": "code",
   "execution_count": 27,
   "id": "aa977eed-7589-4dbc-984f-c93ff5877175",
   "metadata": {},
   "outputs": [
    {
     "name": "stdout",
     "output_type": "stream",
     "text": [
      "[[1. 1. 1. 1.]\n",
      " [1. 1. 1. 1.]\n",
      " [1. 1. 1. 1.]]\n"
     ]
    }
   ],
   "source": [
    "#Criar uma matriz contendo 1\n",
    "matriz_um = np.ones([3, 4])\n",
    "print(matriz_um)"
   ]
  },
  {
   "cell_type": "code",
   "execution_count": 28,
   "id": "7514b60c-d79b-4b58-bef4-b676a35841c2",
   "metadata": {},
   "outputs": [
    {
     "name": "stdout",
     "output_type": "stream",
     "text": [
      "[[0 0 0]\n",
      " [0 0 0]]\n"
     ]
    }
   ],
   "source": [
    "# Criar uma matriz 2 X 3 de 0 inteiros \n",
    "matriz_zero_int = np.zeros([2, 3], dtype = np.int32)\n",
    "print(matriz_zero_int)\n"
   ]
  },
  {
   "cell_type": "code",
   "execution_count": 29,
   "id": "a4821008-c10b-4964-baa7-e984fc7d0e6c",
   "metadata": {},
   "outputs": [
    {
     "name": "stdout",
     "output_type": "stream",
     "text": [
      "[[1. 0. 0.]\n",
      " [0. 1. 0.]\n",
      " [0. 0. 1.]]\n"
     ]
    }
   ],
   "source": [
    "#Matriz identidade\n",
    "# Matriz quadrada (mesmo número de linhas e colunas)\n",
    "# Diagonal principal tem valor 1\n",
    "matriz_identidade = np.eye(3)\n",
    "print(matriz_identidade)"
   ]
  },
  {
   "cell_type": "code",
   "execution_count": 30,
   "id": "20d5465b-9252-492d-9ee1-75c8e31a9f83",
   "metadata": {},
   "outputs": [],
   "source": [
    "### Valores aleatórios"
   ]
  },
  {
   "cell_type": "code",
   "execution_count": 31,
   "id": "3fed4d16-504d-4dac-b955-a4b1f48211db",
   "metadata": {},
   "outputs": [
    {
     "name": "stdout",
     "output_type": "stream",
     "text": [
      "[0.47328058 0.19559475 0.20184535 0.93738945]\n"
     ]
    }
   ],
   "source": [
    "# Array com valores aleatórios entre 0 e 1\n",
    "array_aleatorio = np.random.random(4)\n",
    "print(array_aleatorio)"
   ]
  },
  {
   "cell_type": "code",
   "execution_count": 32,
   "id": "235b6082-cbdc-424d-b660-72427779ed80",
   "metadata": {},
   "outputs": [
    {
     "name": "stdout",
     "output_type": "stream",
     "text": [
      "[[0.66849085 0.69627038 0.11820238]\n",
      " [0.07619708 0.81379438 0.25788256]]\n"
     ]
    }
   ],
   "source": [
    "# Matriz com valores aleatórios entre 0 e 1\n",
    "matriz_aleatoria = np.random.random([2, 3])\n",
    "print(matriz_aleatoria)\n"
   ]
  },
  {
   "cell_type": "code",
   "execution_count": 33,
   "id": "5deafbfd-caaa-4edc-af14-95caa25df3f3",
   "metadata": {},
   "outputs": [
    {
     "name": "stdout",
     "output_type": "stream",
     "text": [
      "[1 3 0 2 2]\n"
     ]
    }
   ],
   "source": [
    "# Array de valores aleatorios inteiros\n",
    "array_ale_int = np.random.randint(4, size = 5) #0, 1, 2, 3\n",
    "print(array_ale_int)"
   ]
  },
  {
   "cell_type": "code",
   "execution_count": 34,
   "id": "437b08ae-0428-4c1f-8201-19bd16277c6f",
   "metadata": {},
   "outputs": [
    {
     "name": "stdout",
     "output_type": "stream",
     "text": [
      "[[5 9 0 9]\n",
      " [3 1 0 8]\n",
      " [4 3 0 4]]\n"
     ]
    }
   ],
   "source": [
    "# Matriz de valores aleatorios inteiros\n",
    "matriz_ale_int = np.random.randint(11, size = (3, 4))\n",
    "print(matriz_ale_int)"
   ]
  },
  {
   "cell_type": "code",
   "execution_count": 35,
   "id": "1bd378a0-ede4-4d6e-b96b-c0ec22735026",
   "metadata": {},
   "outputs": [],
   "source": [
    "## Funções Matemáticas\n"
   ]
  },
  {
   "cell_type": "code",
   "execution_count": 36,
   "id": "9fe842bc-e5b5-4a49-a8ac-7f80e3fdab0a",
   "metadata": {},
   "outputs": [
    {
     "name": "stdout",
     "output_type": "stream",
     "text": [
      "[[ 1  4  5]\n",
      " [12 -3  8]]\n"
     ]
    }
   ],
   "source": [
    "# Criar uma matriz para testes\n",
    "matriz_teste = np.array([[1, 4, 5], [12, -3, 8]])\n",
    "print(matriz_teste)"
   ]
  },
  {
   "cell_type": "code",
   "execution_count": 37,
   "id": "b1830639-35cb-4813-b86e-ed28eac4ad81",
   "metadata": {},
   "outputs": [
    {
     "name": "stdout",
     "output_type": "stream",
     "text": [
      "12\n"
     ]
    }
   ],
   "source": [
    "# Maior valor da matriz\n",
    "print(matriz_teste.max())"
   ]
  },
  {
   "cell_type": "code",
   "execution_count": 38,
   "id": "a99929ed-b89d-4b37-aaab-cd6030d6ddf1",
   "metadata": {},
   "outputs": [
    {
     "name": "stdout",
     "output_type": "stream",
     "text": [
      "-3\n"
     ]
    }
   ],
   "source": [
    "# Menor valor da matriz\n",
    "print(matriz_teste.min())\n"
   ]
  },
  {
   "cell_type": "code",
   "execution_count": 39,
   "id": "418def4a-e908-4ed7-b7ad-951f378cc6ee",
   "metadata": {},
   "outputs": [
    {
     "name": "stdout",
     "output_type": "stream",
     "text": [
      "27\n"
     ]
    }
   ],
   "source": [
    "# Soma dos valores da matriz\n",
    "print(matriz_teste.sum())"
   ]
  },
  {
   "cell_type": "code",
   "execution_count": 40,
   "id": "57375d35-54e0-49ad-a5f6-f7ff2eb2ec68",
   "metadata": {},
   "outputs": [
    {
     "name": "stdout",
     "output_type": "stream",
     "text": [
      "4.5\n"
     ]
    }
   ],
   "source": [
    "# Média dos valores da matriz\n",
    "print(matriz_teste.mean())"
   ]
  },
  {
   "cell_type": "code",
   "execution_count": 41,
   "id": "9194e2bf-979f-41cc-91e1-be22cd3ad8a2",
   "metadata": {},
   "outputs": [
    {
     "name": "stdout",
     "output_type": "stream",
     "text": [
      "[[  4   9  25]\n",
      " [ 16  64  36]\n",
      " [ 81  49 100]]\n"
     ]
    }
   ],
   "source": [
    " # Raiz quadrada\n",
    "matriz_teste2 = np.array([[4, 9, 25], [16, 64, 36], [81, 49, 100]])\n",
    "print(matriz_teste2)                   "
   ]
  },
  {
   "cell_type": "code",
   "execution_count": 42,
   "id": "48f007fb-c779-4661-9c54-0c166054e7f7",
   "metadata": {},
   "outputs": [
    {
     "name": "stdout",
     "output_type": "stream",
     "text": [
      "[[ 2.  3.  5.]\n",
      " [ 4.  8.  6.]\n",
      " [ 9.  7. 10.]]\n"
     ]
    }
   ],
   "source": [
    "print(np.sqrt(matriz_teste2))\n"
   ]
  },
  {
   "cell_type": "code",
   "execution_count": 43,
   "id": "053a22ab-b87e-4eb6-8065-8b1dae77c2c3",
   "metadata": {},
   "outputs": [
    {
     "name": "stdout",
     "output_type": "stream",
     "text": [
      "[ 4  9 25]\n"
     ]
    }
   ],
   "source": [
    "# Potências\n",
    "array_teste = np.array([2, 3, 5])\n",
    "\n",
    "#Quadrado dos elementos\n",
    "print(np.power(array_teste, 2))"
   ]
  },
  {
   "cell_type": "code",
   "execution_count": 44,
   "id": "b6f7aacd-d29c-4d03-8a3d-839b1f414770",
   "metadata": {},
   "outputs": [
    {
     "name": "stdout",
     "output_type": "stream",
     "text": [
      "[  8  27 125]\n"
     ]
    }
   ],
   "source": [
    "# Elementos elevados à 3a. potência\n",
    "print(np.power(array_teste, 3))\n"
   ]
  },
  {
   "cell_type": "code",
   "execution_count": 45,
   "id": "6d953e21-1e61-45e2-8677-f15317fd8c3b",
   "metadata": {},
   "outputs": [],
   "source": [
    "####Extração de elementos"
   ]
  },
  {
   "cell_type": "code",
   "execution_count": 52,
   "id": "eccff2d0-18ec-4fd1-a831-ad48fb693145",
   "metadata": {},
   "outputs": [
    {
     "name": "stdout",
     "output_type": "stream",
     "text": [
      "[1 3 5 7 8 6 4]\n"
     ]
    }
   ],
   "source": [
    "array_teste = np.array([1, 3, 5, 7, 8, 6, 4])\n",
    "print(array_teste)"
   ]
  },
  {
   "cell_type": "code",
   "execution_count": 50,
   "id": "ce94b69d-11a4-4871-a0f9-88a005f5eb20",
   "metadata": {},
   "outputs": [
    {
     "name": "stdout",
     "output_type": "stream",
     "text": [
      "1\n"
     ]
    }
   ],
   "source": [
    "# Primeiro elemento do array\n",
    "print(array_teste[0])"
   ]
  },
  {
   "cell_type": "code",
   "execution_count": 48,
   "id": "c7d010c4-3dc3-482d-b32d-0be6a4da1692",
   "metadata": {},
   "outputs": [
    {
     "name": "stdout",
     "output_type": "stream",
     "text": [
      "5\n"
     ]
    }
   ],
   "source": [
    "# Terceiro elemento do array\n",
    "print(array_teste[2])"
   ]
  },
  {
   "cell_type": "code",
   "execution_count": 49,
   "id": "7004168c-44de-4437-bb9b-df55ba76bcc1",
   "metadata": {},
   "outputs": [
    {
     "name": "stdout",
     "output_type": "stream",
     "text": [
      "[5 7 8]\n"
     ]
    }
   ],
   "source": [
    "# Intervalo entre o 3o e 5o elementos\n",
    "print(array_teste[2:5])"
   ]
  },
  {
   "cell_type": "code",
   "execution_count": null,
   "id": "128397e2-dc39-4b94-8136-a8c57e935d6e",
   "metadata": {},
   "outputs": [],
   "source": [
    "# Três primeiros elementos do array\n",
    "print(array_teste[:3])"
   ]
  },
  {
   "cell_type": "code",
   "execution_count": 53,
   "id": "d389d28a-cad9-4a2f-82fe-07085333aced",
   "metadata": {},
   "outputs": [
    {
     "name": "stdout",
     "output_type": "stream",
     "text": [
      "[7 8 6 4]\n"
     ]
    }
   ],
   "source": [
    "\n",
    "# Exibir os 4 últimos elementos do array\n",
    "print(array_teste[-4:])"
   ]
  },
  {
   "cell_type": "code",
   "execution_count": 54,
   "id": "7e3610fb-9a3f-478a-8c61-7bf8e42c5604",
   "metadata": {},
   "outputs": [
    {
     "name": "stdout",
     "output_type": "stream",
     "text": [
      "[5 7 8 6 4]\n"
     ]
    }
   ],
   "source": [
    "# Exibir os elementos a partir da posição 2 até o final\n",
    "print(array_teste[2:])"
   ]
  },
  {
   "cell_type": "code",
   "execution_count": 55,
   "id": "57db000f-fb9c-44b1-93e9-c0ab84d8db9d",
   "metadata": {},
   "outputs": [],
   "source": [
    "## Extração dos elementos da matriz"
   ]
  },
  {
   "cell_type": "code",
   "execution_count": 56,
   "id": "a3177603-4bff-4689-a8b1-54670d2d199c",
   "metadata": {},
   "outputs": [
    {
     "name": "stdout",
     "output_type": "stream",
     "text": [
      "[[4 2 1]\n",
      " [5 3 7]\n",
      " [6 8 9]]\n"
     ]
    }
   ],
   "source": [
    "# Criar uma matriz teste\n",
    "matriz_teste = np.array([[4, 2, 1], [5, 3, 7], [6, 8, 9]])\n",
    "print(matriz_teste)"
   ]
  },
  {
   "cell_type": "code",
   "execution_count": 57,
   "id": "fd774fa9-3dcd-4dad-98bf-64e22ebae364",
   "metadata": {},
   "outputs": [
    {
     "name": "stdout",
     "output_type": "stream",
     "text": [
      "2\n"
     ]
    }
   ],
   "source": [
    "#Exibindo o elemento 2o. elemento da primeira linha\n",
    "print(matriz_teste[0, 1])"
   ]
  },
  {
   "cell_type": "code",
   "execution_count": 58,
   "id": "6804c2a1-e70c-4451-8755-0adcab1651ab",
   "metadata": {},
   "outputs": [
    {
     "name": "stdout",
     "output_type": "stream",
     "text": [
      "[5 3 7]\n",
      "[5 3 7]\n"
     ]
    }
   ],
   "source": [
    "#Exibir a segunda linha\n",
    "print(matriz_teste[1, :])\n",
    "print(matriz_teste[1])"
   ]
  },
  {
   "cell_type": "code",
   "execution_count": 59,
   "id": "7ec8bfe1-605b-437c-a4c6-d898ca2f2078",
   "metadata": {},
   "outputs": [
    {
     "name": "stdout",
     "output_type": "stream",
     "text": [
      "[1 7 9]\n"
     ]
    }
   ],
   "source": [
    "#Exibir a terceira coluna\n",
    "print(matriz_teste[:, 2])"
   ]
  },
  {
   "cell_type": "code",
   "execution_count": 60,
   "id": "f6b96dbf-b587-475c-a6e5-350d26dae6c7",
   "metadata": {},
   "outputs": [
    {
     "name": "stdout",
     "output_type": "stream",
     "text": [
      "[[2 1]\n",
      " [3 7]]\n"
     ]
    }
   ],
   "source": [
    "'''\n",
    "Imprimir a matriz \n",
    "[2 1]\n",
    "[3 7]\n",
    "'''\n",
    "print(matriz_teste[:2, 1:])\n"
   ]
  },
  {
   "cell_type": "code",
   "execution_count": 61,
   "id": "8db0dee2-cf03-47e1-b467-9f85dfdaf151",
   "metadata": {},
   "outputs": [],
   "source": [
    "###Operações entre matrizes"
   ]
  },
  {
   "cell_type": "code",
   "execution_count": 62,
   "id": "c6bd6bc3-405a-453f-8265-18dd94239b86",
   "metadata": {},
   "outputs": [
    {
     "name": "stdout",
     "output_type": "stream",
     "text": [
      "[[1 2]\n",
      " [3 4]]\n",
      "-----------\n",
      "[[5 6]\n",
      " [7 8]]\n"
     ]
    }
   ],
   "source": [
    "m1 = np.array([[1, 2], [3, 4]])\n",
    "m2 = np.array([[5, 6], [7, 8]])\n",
    "\n",
    "print(m1)\n",
    "print(\"-----------\")\n",
    "print(m2)"
   ]
  },
  {
   "cell_type": "code",
   "execution_count": 65,
   "id": "1f58662d-1d84-4207-96ad-019d487e7425",
   "metadata": {},
   "outputs": [
    {
     "name": "stdout",
     "output_type": "stream",
     "text": [
      "[[ 6  8]\n",
      " [10 12]]\n"
     ]
    }
   ],
   "source": [
    "# Soma\n",
    "# O tamanho das matrizes deve ser igual\n",
    "print(m1 + m2)"
   ]
  },
  {
   "cell_type": "code",
   "execution_count": 64,
   "id": "d9288fb4-a255-43d5-90da-6a0d9d2ae502",
   "metadata": {},
   "outputs": [
    {
     "name": "stdout",
     "output_type": "stream",
     "text": [
      "[[-4 -4]\n",
      " [-4 -4]]\n"
     ]
    }
   ],
   "source": [
    "#Subtração\n",
    "print(m1 - m2)\n"
   ]
  },
  {
   "cell_type": "code",
   "execution_count": null,
   "id": "25257b5a-9e28-4cbc-a85a-203d669b3685",
   "metadata": {},
   "outputs": [],
   "source": [
    "# Caso especial\n",
    "m3 = np.array([0, 1])\n",
    "\n",
    "print(m1 + m3)"
   ]
  },
  {
   "cell_type": "code",
   "execution_count": 66,
   "id": "3b0a10ec-a678-4c37-ab3d-84d40bbe21c2",
   "metadata": {},
   "outputs": [
    {
     "name": "stdout",
     "output_type": "stream",
     "text": [
      "[[ 5 12]\n",
      " [21 32]]\n"
     ]
    }
   ],
   "source": [
    "# Multiplicação entre matrizes\n",
    "print(m1 * m2)"
   ]
  },
  {
   "cell_type": "code",
   "execution_count": 67,
   "id": "778acd52-409a-4719-a5ed-a9fafaa85c8a",
   "metadata": {},
   "outputs": [
    {
     "name": "stdout",
     "output_type": "stream",
     "text": [
      "[[19 22]\n",
      " [43 50]]\n"
     ]
    }
   ],
   "source": [
    "# Multiplicação entre matrizes da forma matemática\n",
    "print(np.dot(m1, m2))"
   ]
  },
  {
   "cell_type": "code",
   "execution_count": 69,
   "id": "42f39af1-c3e5-4685-b4f0-bb0fdf423aec",
   "metadata": {},
   "outputs": [],
   "source": [
    "###Where\n"
   ]
  },
  {
   "cell_type": "code",
   "execution_count": 70,
   "id": "60df7c18-8c14-4720-a7ca-038e213f9ed3",
   "metadata": {},
   "outputs": [
    {
     "name": "stdout",
     "output_type": "stream",
     "text": [
      "[[  0   1   3]\n",
      " [ -2   5   8]\n",
      " [  4 -12   7]]\n"
     ]
    }
   ],
   "source": [
    "#Criar uma matriz 3 x3\n",
    "matriz3 = np.array([[0, 1, 3], [-2, 5, 8], [4, -12, 7]])\n",
    "print(matriz3)"
   ]
  },
  {
   "cell_type": "code",
   "execution_count": 71,
   "id": "89bc76c6-856c-4afe-b0bc-961766c5255b",
   "metadata": {},
   "outputs": [
    {
     "name": "stdout",
     "output_type": "stream",
     "text": [
      "[[0 0 0]\n",
      " [0 1 1]\n",
      " [1 0 1]]\n"
     ]
    }
   ],
   "source": [
    "# Criar uma nova matriz contendo valores 0, onde o elemento é menor que 4\n",
    "# e 1, nos outros casos\n",
    "# Semelhante ao operador ternário\n",
    "matriz_nova = np.where(matriz3 < 4, 0, 1)\n",
    "print(matriz_nova)"
   ]
  },
  {
   "cell_type": "code",
   "execution_count": null,
   "id": "4ef91dcb-7835-4c16-af81-0d433ef931f2",
   "metadata": {},
   "outputs": [],
   "source": []
  }
 ],
 "metadata": {
  "kernelspec": {
   "display_name": "Python 3 (ipykernel)",
   "language": "python",
   "name": "python3"
  },
  "language_info": {
   "codemirror_mode": {
    "name": "ipython",
    "version": 3
   },
   "file_extension": ".py",
   "mimetype": "text/x-python",
   "name": "python",
   "nbconvert_exporter": "python",
   "pygments_lexer": "ipython3",
   "version": "3.12.7"
  }
 },
 "nbformat": 4,
 "nbformat_minor": 5
}
